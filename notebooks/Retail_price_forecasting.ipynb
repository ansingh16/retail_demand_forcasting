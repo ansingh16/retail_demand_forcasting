{
 "cells": [
  {
   "cell_type": "markdown",
   "id": "77781d98",
   "metadata": {},
   "source": [
    "### Get Product Data from Open Food Facts API\n",
    "\n",
    "We want to extract the product_name, brands, categories, code (unique product ID), nutrition_grades_tags"
   ]
  },
  {
   "cell_type": "markdown",
   "id": "fc8a1dae",
   "metadata": {},
   "source": [
    "## Data Wrangling"
   ]
  },
  {
   "cell_type": "markdown",
   "id": "e958f365",
   "metadata": {},
   "source": [
    "### Import libraries"
   ]
  },
  {
   "cell_type": "code",
   "execution_count": 3,
   "id": "59af1b05",
   "metadata": {},
   "outputs": [],
   "source": [
    "import requests\n",
    "import pprint\n",
    "import pandas as pd"
   ]
  },
  {
   "cell_type": "code",
   "execution_count": 26,
   "id": "6ec5c806",
   "metadata": {},
   "outputs": [
    {
     "name": "stdout",
     "output_type": "stream",
     "text": [
      "https://world.openfoodfacts.org/category/snacks/1.json\n",
      "200\n",
      "['_id', '_keywords', 'added_countries_tags', 'additives_n', 'additives_original_tags', 'additives_tags', 'allergens', 'allergens_from_ingredients', 'allergens_from_user', 'allergens_hierarchy', 'allergens_lc', 'allergens_tags', 'amino_acids_prev_tags', 'amino_acids_tags', 'brands', 'brands_hierarchy', 'brands_lc', 'brands_old', 'brands_tags', 'carbon_footprint_from_known_ingredients_debug', 'carbon_footprint_percent_of_known_ingredients', 'categories', 'categories_hierarchy', 'categories_lc', 'categories_old', 'categories_properties', 'categories_properties_tags', 'categories_tags', 'category_properties', 'checked', 'checkers_tags', 'ciqual_food_name_tags', 'cities_tags', 'code', 'codes_tags', 'compared_to_category', 'complete', 'completeness', 'correctors_tags', 'countries', 'countries_beforescanbot', 'countries_hierarchy', 'countries_lc', 'countries_tags', 'created_t', 'creator', 'data_quality_bugs_tags', 'data_quality_errors_tags', 'data_quality_info_tags', 'data_quality_tags', 'data_quality_warnings_tags', 'data_sources', 'data_sources_tags', 'debug_param_sorted_langs', 'editors', 'editors_tags', 'emb_codes', 'emb_codes_20141016', 'emb_codes_orig', 'emb_codes_tags', 'entry_dates_tags', 'environment_impact_level', 'environment_impact_level_tags', 'environmental_score_data', 'environmental_score_grade', 'environmental_score_score', 'environmental_score_tags', 'expiration_date', 'food_groups', 'food_groups_tags', 'fruits-vegetables-nuts_100g_estimate', 'generic_name', 'generic_name_ar', 'generic_name_en', 'generic_name_es', 'generic_name_fr', 'generic_name_uk', 'grades', 'id', 'image_front_small_url', 'image_front_thumb_url', 'image_front_url', 'image_small_url', 'image_thumb_url', 'image_url', 'images', 'informers_tags', 'ingredients', 'ingredients_analysis', 'ingredients_analysis_tags', 'ingredients_debug', 'ingredients_from_or_that_may_be_from_palm_oil_n', 'ingredients_from_palm_oil_n', 'ingredients_from_palm_oil_tags', 'ingredients_ids_debug', 'ingredients_lc', 'ingredients_n', 'ingredients_n_tags', 'ingredients_non_nutritive_sweeteners_n', 'ingredients_original_tags', 'ingredients_percent_analysis', 'ingredients_sweeteners_n', 'ingredients_tags', 'ingredients_text', 'ingredients_text_ar', 'ingredients_text_debug', 'ingredients_text_en', 'ingredients_text_es', 'ingredients_text_fr', 'ingredients_text_uk', 'ingredients_text_with_allergens', 'ingredients_text_with_allergens_ar', 'ingredients_text_with_allergens_en', 'ingredients_text_with_allergens_es', 'ingredients_text_with_allergens_fr', 'ingredients_text_with_allergens_uk', 'ingredients_that_may_be_from_palm_oil_n', 'ingredients_that_may_be_from_palm_oil_tags', 'ingredients_with_specified_percent_n', 'ingredients_with_specified_percent_sum', 'ingredients_with_unspecified_percent_n', 'ingredients_with_unspecified_percent_sum', 'ingredients_without_ciqual_codes', 'ingredients_without_ciqual_codes_n', 'ingredients_without_ecobalyse_ids', 'ingredients_without_ecobalyse_ids_n', 'interface_version_created', 'interface_version_modified', 'known_ingredients_n', 'labels', 'labels_hierarchy', 'labels_lc', 'labels_old', 'labels_tags', 'lang', 'languages', 'languages_codes', 'languages_hierarchy', 'languages_tags', 'last_check_dates_tags', 'last_checked_t', 'last_checker', 'last_edit_dates_tags', 'last_editor', 'last_image_dates_tags', 'last_image_t', 'last_modified_by', 'last_modified_t', 'last_updated_t', 'lc', 'link', 'main_countries_tags', 'manufacturing_places', 'manufacturing_places_tags', 'max_imgid', 'minerals_prev_tags', 'minerals_tags', 'misc_tags', 'no_nutrition_data', 'nova_group', 'nova_group_debug', 'nova_groups', 'nova_groups_markers', 'nova_groups_tags', 'nucleotides_prev_tags', 'nucleotides_tags', 'nutrient_levels', 'nutrient_levels_tags', 'nutriments', 'nutriscore', 'nutriscore_2021_tags', 'nutriscore_2023_tags', 'nutriscore_data', 'nutriscore_grade', 'nutriscore_score', 'nutriscore_score_opposite', 'nutriscore_tags', 'nutriscore_version', 'nutrition_data', 'nutrition_data_per', 'nutrition_data_prepared', 'nutrition_data_prepared_per', 'nutrition_grade_fr', 'nutrition_grades', 'nutrition_grades_tags', 'nutrition_score_beverage', 'nutrition_score_debug', 'nutrition_score_warning_fruits_vegetables_legumes_estimate_from_ingredients', 'nutrition_score_warning_fruits_vegetables_legumes_estimate_from_ingredients_value', 'nutrition_score_warning_fruits_vegetables_nuts_estimate_from_ingredients', 'nutrition_score_warning_fruits_vegetables_nuts_estimate_from_ingredients_value', 'obsolete', 'obsolete_since_date', 'origin', 'origin_ar', 'origin_en', 'origin_es', 'origin_fr', 'origin_uk', 'origins', 'origins_hierarchy', 'origins_lc', 'origins_old', 'origins_tags', 'other_nutritional_substances_prev_tags', 'other_nutritional_substances_tags', 'packaging', 'packaging_hierarchy', 'packaging_lc', 'packaging_materials_tags', 'packaging_old', 'packaging_old_before_taxonomization', 'packaging_recycling_tags', 'packaging_shapes_tags', 'packaging_tags', 'packaging_text', 'packaging_text_ar', 'packaging_text_en', 'packaging_text_es', 'packaging_text_fr', 'packaging_text_uk', 'packagings', 'packagings_complete', 'packagings_materials', 'packagings_materials_main', 'packagings_n', 'photographers_tags', 'pnns_groups_1', 'pnns_groups_1_tags', 'pnns_groups_2', 'pnns_groups_2_tags', 'popularity_key', 'popularity_tags', 'product_name', 'product_name_ar', 'product_name_en', 'product_name_es', 'product_name_fr', 'product_name_uk', 'product_quantity', 'product_quantity_unit', 'product_type', 'purchase_places', 'purchase_places_tags', 'quantity', 'removed_countries_tags', 'rev', 'scans_n', 'schema_version', 'scores', 'selected_images', 'serving_quantity', 'serving_quantity_unit', 'serving_size', 'sortkey', 'states', 'states_hierarchy', 'states_tags', 'stores', 'stores_tags', 'teams', 'teams_tags', 'traces', 'traces_from_ingredients', 'traces_from_user', 'traces_hierarchy', 'traces_lc', 'traces_tags', 'unique_scans_n', 'unknown_ingredients_n', 'unknown_nutrients_tags', 'update_key', 'url', 'vitamins_prev_tags', 'vitamins_tags', 'weighers_tags', 'weighters_tags']\n"
     ]
    }
   ],
   "source": [
    "\n",
    "# function to pull data from openfoodsfacts\n",
    "def fetch_products(category=\"snacks\", page=1):\n",
    "    url = f\"https://world.openfoodfacts.org/category/{category}/{page}.json\"\n",
    "    print(url)\n",
    "    response = requests.get(url)\n",
    "    try:\n",
    "        print(response.status_code)\n",
    "        # get json response\n",
    "        data = response.json()\n",
    "        # get products from the response\n",
    "        products = data[\"products\"]\n",
    "        return products\n",
    "    except:\n",
    "        return None\n",
    "\n",
    "\n",
    "# get products\n",
    "products = fetch_products(\"snacks\")\n",
    "print(list(products[0].keys()))"
   ]
  },
  {
   "cell_type": "markdown",
   "id": "5bf6e4d5",
   "metadata": {},
   "source": [
    "Many keywords contain language tags. Lets keep only the English tags like '_en'."
   ]
  },
  {
   "cell_type": "code",
   "execution_count": 38,
   "id": "140608de",
   "metadata": {},
   "outputs": [
    {
     "data": {
      "text/plain": [
       "['allergens_lc',\n",
       " 'brands_lc',\n",
       " 'categories_lc',\n",
       " 'countries_lc',\n",
       " 'generic_name_ar',\n",
       " 'generic_name_es',\n",
       " 'generic_name_fr',\n",
       " 'generic_name_uk',\n",
       " 'ingredients_lc',\n",
       " 'ingredients_text_ar',\n",
       " 'ingredients_text_es',\n",
       " 'ingredients_text_fr',\n",
       " 'ingredients_text_uk',\n",
       " 'ingredients_text_with_allergens_ar',\n",
       " 'ingredients_text_with_allergens_es',\n",
       " 'ingredients_text_with_allergens_fr',\n",
       " 'ingredients_text_with_allergens_uk',\n",
       " 'labels_lc',\n",
       " 'last_modified_by',\n",
       " 'nutrition_grade_fr',\n",
       " 'origin_ar',\n",
       " 'origin_es',\n",
       " 'origin_fr',\n",
       " 'origin_uk',\n",
       " 'origins_lc',\n",
       " 'packaging_lc',\n",
       " 'packaging_text_ar',\n",
       " 'packaging_text_es',\n",
       " 'packaging_text_fr',\n",
       " 'packaging_text_uk',\n",
       " 'product_name_ar',\n",
       " 'product_name_es',\n",
       " 'product_name_fr',\n",
       " 'product_name_uk',\n",
       " 'traces_lc',\n",
       " 'generic_name_de',\n",
       " 'generic_name_fi',\n",
       " 'generic_name_it',\n",
       " 'generic_name_ja',\n",
       " 'generic_name_nb',\n",
       " 'generic_name_nl',\n",
       " 'generic_name_pl',\n",
       " 'generic_name_sv',\n",
       " 'ingredients_text_de',\n",
       " 'ingredients_text_fi',\n",
       " 'ingredients_text_it',\n",
       " 'ingredients_text_ja',\n",
       " 'ingredients_text_nb',\n",
       " 'ingredients_text_nl',\n",
       " 'ingredients_text_pl',\n",
       " 'ingredients_text_sv',\n",
       " 'ingredients_text_with_allergens_de',\n",
       " 'ingredients_text_with_allergens_fi',\n",
       " 'ingredients_text_with_allergens_it',\n",
       " 'ingredients_text_with_allergens_ja',\n",
       " 'ingredients_text_with_allergens_nb',\n",
       " 'ingredients_text_with_allergens_nl',\n",
       " 'ingredients_text_with_allergens_pl',\n",
       " 'ingredients_text_with_allergens_sv',\n",
       " 'origin_de',\n",
       " 'origin_fi',\n",
       " 'origin_it',\n",
       " 'origin_ja',\n",
       " 'origin_nb',\n",
       " 'origin_nl',\n",
       " 'origin_pl',\n",
       " 'origin_sv',\n",
       " 'packaging_text_de',\n",
       " 'packaging_text_fi',\n",
       " 'packaging_text_it',\n",
       " 'packaging_text_ja',\n",
       " 'packaging_text_nb',\n",
       " 'packaging_text_nl',\n",
       " 'packaging_text_pl',\n",
       " 'packaging_text_sv',\n",
       " 'product_name_de',\n",
       " 'product_name_fi',\n",
       " 'product_name_it',\n",
       " 'product_name_ja',\n",
       " 'product_name_nb',\n",
       " 'product_name_nl',\n",
       " 'product_name_pl',\n",
       " 'product_name_sv',\n",
       " 'generic_name_ca',\n",
       " 'generic_name_cs',\n",
       " 'generic_name_et',\n",
       " 'generic_name_hu',\n",
       " 'generic_name_pt',\n",
       " 'generic_name_sr',\n",
       " 'ingredients_text_ca',\n",
       " 'ingredients_text_cs',\n",
       " 'ingredients_text_et',\n",
       " 'ingredients_text_hu',\n",
       " 'ingredients_text_pt',\n",
       " 'ingredients_text_sr',\n",
       " 'ingredients_text_with_allergens_cs',\n",
       " 'ingredients_text_with_allergens_et',\n",
       " 'ingredients_text_with_allergens_hu',\n",
       " 'ingredients_text_with_allergens_pt',\n",
       " 'ingredients_text_with_allergens_sr',\n",
       " 'origin_ca',\n",
       " 'origin_cs',\n",
       " 'origin_et',\n",
       " 'origin_hu',\n",
       " 'origin_pt',\n",
       " 'origin_sr',\n",
       " 'packaging_text_ca',\n",
       " 'packaging_text_cs',\n",
       " 'packaging_text_et',\n",
       " 'packaging_text_hu',\n",
       " 'packaging_text_pt',\n",
       " 'packaging_text_sr',\n",
       " 'product_name_ca',\n",
       " 'product_name_cs',\n",
       " 'product_name_et',\n",
       " 'product_name_hu',\n",
       " 'product_name_pt',\n",
       " 'product_name_sr',\n",
       " 'generic_name_gl',\n",
       " 'generic_name_ro',\n",
       " 'generic_name_ru',\n",
       " 'ingredients_text_gl',\n",
       " 'ingredients_text_ro',\n",
       " 'ingredients_text_ru',\n",
       " 'ingredients_text_with_allergens_ro',\n",
       " 'ingredients_text_with_allergens_ru',\n",
       " 'origin_ro',\n",
       " 'origin_ru',\n",
       " 'packaging_text_ro',\n",
       " 'packaging_text_ru',\n",
       " 'product_name_gl',\n",
       " 'product_name_ro',\n",
       " 'product_name_ru',\n",
       " 'generic_name_bg',\n",
       " 'generic_name_dz',\n",
       " 'generic_name_sk',\n",
       " 'generic_name_sl',\n",
       " 'ingredients_text_bg',\n",
       " 'ingredients_text_dz',\n",
       " 'ingredients_text_sk',\n",
       " 'ingredients_text_sl',\n",
       " 'ingredients_text_with_allergens_bg',\n",
       " 'ingredients_text_with_allergens_ca',\n",
       " 'ingredients_text_with_allergens_sk',\n",
       " 'ingredients_text_with_allergens_sl',\n",
       " 'origin_bg',\n",
       " 'origin_sk',\n",
       " 'origin_sl',\n",
       " 'packaging_text_bg',\n",
       " 'packaging_text_sk',\n",
       " 'packaging_text_sl',\n",
       " 'product_name_bg',\n",
       " 'product_name_dz',\n",
       " 'product_name_sk',\n",
       " 'product_name_sl',\n",
       " 'abbreviated_product_name_fr',\n",
       " 'conservation_conditions_fr',\n",
       " 'customer_service_fr',\n",
       " 'producer_version_id']"
      ]
     },
     "execution_count": 38,
     "metadata": {},
     "output_type": "execute_result"
    }
   ],
   "source": [
    "# get all language columns as they end with '_xx'\n",
    "lang = df.filter(regex='_..$', axis=1).columns\n",
    "\n",
    "# filter non-english columns\n",
    "lang_non_en = [col for col in lang if '_en' not in col]\n",
    "\n",
    "lang_non_en"
   ]
  },
  {
   "cell_type": "markdown",
   "id": "0436465e",
   "metadata": {},
   "source": [
    "**products** is a list containing dictionaries. We convert it into pandas dataframe"
   ]
  },
  {
   "cell_type": "code",
   "execution_count": 11,
   "id": "6bd1b425",
   "metadata": {},
   "outputs": [
    {
     "name": "stdout",
     "output_type": "stream",
     "text": [
      "(20, 458)\n",
      "Index(['_keywords', 'added_countries_tags', 'additives_n',\n",
      "       'additives_original_tags', 'additives_tags', 'allergens',\n",
      "       'allergens_from_ingredients', 'allergens_from_user',\n",
      "       'allergens_hierarchy', 'allergens_lc',\n",
      "       ...\n",
      "       'owners_tags', 'packaging_imported', 'producer_version_id',\n",
      "       'producer_version_id_imported', 'product_name_fr_imported',\n",
      "       'quantity_imported', 'serving_size_imported', 'sources_fields',\n",
      "       'traces_imported', 'specific_ingredients'],\n",
      "      dtype='object', length=458)\n"
     ]
    }
   ],
   "source": [
    "# convert to dataframe\n",
    "df = pd.DataFrame(products)\n",
    "# set index equal to unique product id  given by '_id'\n",
    "df.set_index('_id', inplace=True)\n",
    "print(df.shape)\n",
    "print(df.columns)"
   ]
  },
  {
   "cell_type": "code",
   "execution_count": 25,
   "id": "5cd3ffcb",
   "metadata": {},
   "outputs": [
    {
     "data": {
      "text/plain": [
       "(335,)"
      ]
     },
     "execution_count": 25,
     "metadata": {},
     "output_type": "execute_result"
    }
   ],
   "source": [
    "# check the percentage of missing values in each columns\n",
    "columns_comp = df.isnull().sum()/df.shape[0]\n",
    "\n",
    "# get name of columns with less than 75 percent complete data\n",
    "columns_incomplete = columns_comp[columns_comp<0.9]\n",
    "columns_incomplete.shape"
   ]
  },
  {
   "cell_type": "markdown",
   "id": "219d16f2",
   "metadata": {},
   "source": [
    "335 columns are less than 90% complete, we can remove them as any Imputation of such feature will cause errors in the model.\n",
    "Before we throw away the dataset we can look at them if they contain anything important that we can handle with inputing the data."
   ]
  },
  {
   "cell_type": "code",
   "execution_count": null,
   "id": "e23d43df",
   "metadata": {},
   "outputs": [
    {
     "data": {
      "text/plain": [
       "Index(['allergens_lc', 'brands_lc', 'categories_lc', 'countries_lc',\n",
       "       'generic_name_ar', 'generic_name_en', 'generic_name_es',\n",
       "       'generic_name_fr', 'generic_name_uk', 'ingredients_lc',\n",
       "       ...\n",
       "       'packaging_text_sk', 'packaging_text_sl', 'product_name_bg',\n",
       "       'product_name_dz', 'product_name_sk', 'product_name_sl',\n",
       "       'abbreviated_product_name_fr', 'conservation_conditions_fr',\n",
       "       'customer_service_fr', 'producer_version_id'],\n",
       "      dtype='object', length=165)"
      ]
     },
     "execution_count": 37,
     "metadata": {},
     "output_type": "execute_result"
    }
   ],
   "source": []
  },
  {
   "cell_type": "code",
   "execution_count": null,
   "id": "3c6d896f",
   "metadata": {},
   "outputs": [],
   "source": []
  }
 ],
 "metadata": {
  "kernelspec": {
   "display_name": "retail",
   "language": "python",
   "name": "python3"
  },
  "language_info": {
   "codemirror_mode": {
    "name": "ipython",
    "version": 3
   },
   "file_extension": ".py",
   "mimetype": "text/x-python",
   "name": "python",
   "nbconvert_exporter": "python",
   "pygments_lexer": "ipython3",
   "version": "3.13.5"
  }
 },
 "nbformat": 4,
 "nbformat_minor": 5
}
